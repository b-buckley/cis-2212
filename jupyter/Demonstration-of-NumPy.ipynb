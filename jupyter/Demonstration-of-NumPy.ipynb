{
 "cells": [
  {
   "cell_type": "markdown",
   "id": "6a120072",
   "metadata": {},
   "source": [
    "# Demonstration of NumPy\n",
    "\n",
    "NumPy is a well known library for doing numeric computation with Python. The library itself is written in C and is vastly faster than native Python code. However, it has a convenient Python interface that makes doing advanced numeric processing easy (well, easier). Some of the code snippets below have been taken from *Learning Python by Building Data Science Applications* by Philipp Kats and David Katz.\n",
    "\n",
    "First, let's look at a pythonic way of doing a large-ish numeric computation:"
   ]
  },
  {
   "cell_type": "code",
   "execution_count": 5,
   "id": "7e499bcd",
   "metadata": {},
   "outputs": [
    {
     "name": "stdout",
     "output_type": "stream",
     "text": [
      "153 ns ± 3.16 ns per loop (mean ± std. dev. of 7 runs, 10000000 loops each)\n"
     ]
    }
   ],
   "source": [
    "# A, B, and C are three long lists (arrays) of integers, each containing 5000 elements.\n",
    "A, B, C = [1, 2, 3, 4, 5] * 1000, [2, 3, 4, 5, 6] * 1000, [3, 4, 5, 6, 7] * 1000\n",
    "\n",
    "# The value referenced by zipped is an list (array) of tuples (triples), e. g., [(1, 2, 3), (2, 3, 4), etc...].\n",
    "# Note that zipped is a \"zip object\" and not an actual list. However, it can be iterated.\n",
    "zipped = zip(A, B, C)\n",
    "\n",
    "# Now let us create a list (array) of integers by summing each tupl, e. g., [6, 9, etc...]\n",
    "%timeit result = [sum(row) for row in zip(A, B, C)]  # But... try this using zipped instead!\n"
   ]
  },
  {
   "cell_type": "markdown",
   "id": "246ee3cd",
   "metadata": {},
   "source": [
    "Now let us try this with NumPy"
   ]
  },
  {
   "cell_type": "code",
   "execution_count": 3,
   "id": "be34f41a",
   "metadata": {},
   "outputs": [
    {
     "name": "stdout",
     "output_type": "stream",
     "text": [
      "5.94 µs ± 36.3 ns per loop (mean ± std. dev. of 7 runs, 100000 loops each)\n"
     ]
    }
   ],
   "source": [
    "import numpy as np\n",
    "Anp, Bnp, Cnp = np.array(A), np.array(B), np.array(C)\n",
    "\n",
    "%timeit resultnp = Anp + Bnp + Cnp"
   ]
  },
  {
   "cell_type": "code",
   "execution_count": 4,
   "id": "6ddad9e9",
   "metadata": {},
   "outputs": [
    {
     "data": {
      "text/plain": [
       "101.01010101010101"
      ]
     },
     "execution_count": 4,
     "metadata": {},
     "output_type": "execute_result"
    }
   ],
   "source": [
    "600.0 / 5.94"
   ]
  },
  {
   "cell_type": "markdown",
   "id": "4f36fb6c",
   "metadata": {},
   "source": [
    "So it appears that NumPy is over 90 times faster than raw Python. However, the reality is more complicated than that. Most of the time spent by the Python code is in the zip operation that combines the three lists into one. The timing above includes that operation in the measurement. The NumPy code skips that operation entirely because it adds the array elements \"in place\" without creating a temporary zipped list (filled with tuples) first. The NumPy code is more \"primitive\" and dispenses with the overhead of creating a large number of Python tuple objects.\n",
    "\n",
    "In fact, the Python code can be hugely improved by simply computing the zipped list once. The the list comprehension that is timed just adds the values in the tuples of that list as it creates a new list. This is actually considerably faster than the NumPy version. However, be aware that the measured timing includes an artificial loop. In a real program that does these things just once, the NumPy version would likely be better again.\n",
    "\n",
    "Let's look at some other things NumPy can do..."
   ]
  },
  {
   "cell_type": "code",
   "execution_count": 6,
   "id": "dc8a1818",
   "metadata": {},
   "outputs": [
    {
     "name": "stdout",
     "output_type": "stream",
     "text": [
      "Dimensions  : 2\n",
      "Shape       : (2, 5)\n",
      "Element Type: int32\n",
      "Size        : 10\n",
      "Item Size   : 4\n"
     ]
    },
    {
     "data": {
      "text/plain": [
       "array([[ 1,  2,  3,  4,  5],\n",
       "       [ 6,  7,  8,  9, 10]])"
      ]
     },
     "execution_count": 6,
     "metadata": {},
     "output_type": "execute_result"
    }
   ],
   "source": [
    "m1 = np.array([[1, 2, 3, 4, 5], [6, 7, 8, 9, 10]])\n",
    "print(\"Dimensions  : {}\\nShape       : {}\\nElement Type: {}\\nSize        : {}\\nItem Size   : {}\".format(\n",
    "     m1.ndim, m1.shape, m1.dtype, m1.size, m1.itemsize))\n",
    "m1"
   ]
  },
  {
   "cell_type": "markdown",
   "id": "e95aa78f",
   "metadata": {},
   "source": [
    "The above shows a basic two-dimensional array of integers, along with some of the attributes all arrays support. Since arrays in NumPy must have elements that are all the same type, what happens when we try to create an array with heterogenous types? First, mixing integers and floating point values does the expected thing:"
   ]
  },
  {
   "cell_type": "code",
   "execution_count": 7,
   "id": "e8a49588",
   "metadata": {},
   "outputs": [
    {
     "name": "stdout",
     "output_type": "stream",
     "text": [
      "Dimensions  : 2\n",
      "Shape       : (2, 5)\n",
      "Element Type: float64\n",
      "Size        : 10\n",
      "Item Size   : 8\n"
     ]
    },
    {
     "data": {
      "text/plain": [
       "array([[ 1.,  2.,  3.,  4.,  5.],\n",
       "       [ 6.,  7.,  8.,  9., 10.]])"
      ]
     },
     "execution_count": 7,
     "metadata": {},
     "output_type": "execute_result"
    }
   ],
   "source": [
    "m2 = np.array([[1.0, 2.0, 3.0, 4.0, 5.0], [6, 7, 8, 9, 10]])\n",
    "print(\"Dimensions  : {}\\nShape       : {}\\nElement Type: {}\\nSize        : {}\\nItem Size   : {}\".format(\n",
    "     m2.ndim, m2.shape, m2.dtype, m2.size, m2.itemsize))\n",
    "m2"
   ]
  },
  {
   "cell_type": "markdown",
   "id": "4a9f5563",
   "metadata": {},
   "source": [
    "As you can see, the values were all \"up converted\" to floats. Let's make a helper function for printing array information. That might be useful for future convenience."
   ]
  },
  {
   "cell_type": "code",
   "execution_count": 8,
   "id": "51f14c2f",
   "metadata": {},
   "outputs": [],
   "source": [
    "def print_array_info(m):\n",
    "    print(\"Dimensions  : {}\\nShape       : {}\\nElement Type: {}\\nSize        : {}\\nItem Size   : {}\".format(\n",
    "         m.ndim, m.shape, m.dtype, m.size, m.itemsize))\n"
   ]
  },
  {
   "cell_type": "markdown",
   "id": "0360eec5",
   "metadata": {},
   "source": [
    "Now let's try mixing more \"interesting\" combination of types."
   ]
  },
  {
   "cell_type": "code",
   "execution_count": 9,
   "id": "07fb07a2",
   "metadata": {},
   "outputs": [
    {
     "name": "stdout",
     "output_type": "stream",
     "text": [
      "Dimensions  : 2\n",
      "Shape       : (2, 3)\n",
      "Element Type: <U32\n",
      "Size        : 6\n",
      "Item Size   : 128\n"
     ]
    },
    {
     "data": {
      "text/plain": [
       "array([['1', '2', 'Hello'],\n",
       "       ['3.14', '2.78', 'World']], dtype='<U32')"
      ]
     },
     "execution_count": 9,
     "metadata": {},
     "output_type": "execute_result"
    }
   ],
   "source": [
    "m3 = np.array([[1, 2, \"Hello\"], [3.14, 2.78, \"World\"]])\n",
    "print_array_info(m3)\n",
    "m3"
   ]
  },
  {
   "cell_type": "markdown",
   "id": "179c2772",
   "metadata": {},
   "source": [
    "Everything is converted to a string (UTF-32 format) as a kind of \"universal\" data type. It gets even more interesting when you try to include more complex object types in the arrays:"
   ]
  },
  {
   "cell_type": "code",
   "execution_count": 20,
   "id": "43538302",
   "metadata": {},
   "outputs": [
    {
     "name": "stderr",
     "output_type": "stream",
     "text": [
      "<ipython-input-20-949965675ac1>:1: VisibleDeprecationWarning: Creating an ndarray from ragged nested sequences (which is a list-or-tuple of lists-or-tuples-or ndarrays with different lengths or shapes) is deprecated. If you meant to do this, you must specify 'dtype=object' when creating the ndarray.\n",
      "  m4 = np.array([[1, 2, (3, 4)], [(5, 6), 7, 8]])\n"
     ]
    }
   ],
   "source": [
    "m4 = np.array([[1, 2, (3, 4)], [(5, 6), 7, 8]])"
   ]
  },
  {
   "cell_type": "code",
   "execution_count": 10,
   "id": "5c0bbd1a",
   "metadata": {},
   "outputs": [
    {
     "name": "stdout",
     "output_type": "stream",
     "text": [
      "Dimensions  : 2\n",
      "Shape       : (2, 3)\n",
      "Element Type: object\n",
      "Size        : 6\n",
      "Item Size   : 8\n"
     ]
    },
    {
     "data": {
      "text/plain": [
       "array([[1, 2, (3, 4)],\n",
       "       [(5, 6), 7, 8]], dtype=object)"
      ]
     },
     "execution_count": 10,
     "metadata": {},
     "output_type": "execute_result"
    }
   ],
   "source": [
    "m4 = np.array([[1, 2, (3, 4)], [(5, 6), 7, 8]], dtype='object')\n",
    "print_array_info(m4)\n",
    "m4"
   ]
  },
  {
   "cell_type": "markdown",
   "id": "8e0012b6",
   "metadata": {},
   "source": [
    "Note: *This is an atypical way to use NumPy!* The purpose of NumPy is to process arrays of *numbers*. However, this illustrates that NumPy insists every element of its arrays has the same type, \"up converting\" everything to \"object\" if it has to."
   ]
  },
  {
   "cell_type": "markdown",
   "id": "9a810236",
   "metadata": {},
   "source": [
    "What happens if the nested sequences aren't ragged?"
   ]
  },
  {
   "cell_type": "code",
   "execution_count": 11,
   "id": "61aba06f",
   "metadata": {},
   "outputs": [
    {
     "name": "stdout",
     "output_type": "stream",
     "text": [
      "Dimensions  : 3\n",
      "Shape       : (2, 3, 2)\n",
      "Element Type: int32\n",
      "Size        : 12\n",
      "Item Size   : 4\n"
     ]
    },
    {
     "data": {
      "text/plain": [
       "array([[[ 1,  2],\n",
       "        [ 3,  4],\n",
       "        [ 5,  6]],\n",
       "\n",
       "       [[ 7,  8],\n",
       "        [ 9, 10],\n",
       "        [11, 12]]])"
      ]
     },
     "execution_count": 11,
     "metadata": {},
     "output_type": "execute_result"
    }
   ],
   "source": [
    "m5 = np.array([[(1, 2), (3, 4), (5, 6)], [(7, 8), (9, 10), (11, 12)]])\n",
    "print_array_info(m5)\n",
    "m5"
   ]
  },
  {
   "cell_type": "markdown",
   "id": "09ada874",
   "metadata": {},
   "source": [
    "Here it actually creates a 3-dimensional array. The first dimension is taken from the original list-of-lists, the second dimension is taken from the tuples in each list, and the third dimension is taken from the tuples themselves (which all have the same size).\n",
    "\n",
    "It is possible to create a large array either initialized to zeros (or ones) or uninitialized. This is useful when you know the size, but not yet the values that need to be put into the array. Although arrays can be resized dynamically, doing so is slow, so it's best to avoid that when possible."
   ]
  },
  {
   "cell_type": "code",
   "execution_count": 12,
   "id": "e6319abb",
   "metadata": {},
   "outputs": [
    {
     "name": "stdout",
     "output_type": "stream",
     "text": [
      "Dimensions  : 2\n",
      "Shape       : (100, 100)\n",
      "Element Type: complex128\n",
      "Size        : 10000\n",
      "Item Size   : 16\n"
     ]
    },
    {
     "data": {
      "text/plain": [
       "array([[0.+0.j, 0.+0.j, 0.+0.j, ..., 0.+0.j, 0.+0.j, 0.+0.j],\n",
       "       [0.+0.j, 0.+0.j, 0.+0.j, ..., 0.+0.j, 0.+0.j, 0.+0.j],\n",
       "       [0.+0.j, 0.+0.j, 0.+0.j, ..., 0.+0.j, 0.+0.j, 0.+0.j],\n",
       "       ...,\n",
       "       [0.+0.j, 0.+0.j, 0.+0.j, ..., 0.+0.j, 0.+0.j, 0.+0.j],\n",
       "       [0.+0.j, 0.+0.j, 0.+0.j, ..., 0.+0.j, 0.+0.j, 0.+0.j],\n",
       "       [0.+0.j, 0.+0.j, 0.+0.j, ..., 0.+0.j, 0.+0.j, 0.+0.j]])"
      ]
     },
     "execution_count": 12,
     "metadata": {},
     "output_type": "execute_result"
    }
   ],
   "source": [
    "m6 = np.zeros((100, 100), dtype=complex)   # The shape of the array. Here 2-dimensional with 100x100 (= 10,000) elements.\n",
    "print_array_info(m6)\n",
    "m6"
   ]
  },
  {
   "cell_type": "markdown",
   "id": "fdc0cdda",
   "metadata": {},
   "source": [
    "Math operations are done element-wise, including multiplication. The '@' operator can be used to do matrix multiplication."
   ]
  },
  {
   "cell_type": "code",
   "execution_count": 46,
   "id": "f6f9833f",
   "metadata": {},
   "outputs": [
    {
     "name": "stdout",
     "output_type": "stream",
     "text": [
      "\n",
      "a + b =\n",
      "[[12. 14. 16.]\n",
      " [18. 20. 22.]\n",
      " [24. 26. 28.]]\n",
      "\n",
      "2 * a =\n",
      "[[ 2.  4.  6.]\n",
      " [ 8. 10. 12.]\n",
      " [14. 16. 18.]]\n",
      "\n",
      "a * b =\n",
      "[[ 11.  24.  39.]\n",
      " [ 56.  75.  96.]\n",
      " [119. 144. 171.]]\n",
      "\n",
      "a @ b =\n",
      "[[ 90.  96. 102.]\n",
      " [216. 231. 246.]\n",
      " [342. 366. 390.]]\n"
     ]
    }
   ],
   "source": [
    "a = np.array([[ 1,  2,  3], [ 4,  5,  6], [ 7,  8,  9]], dtype=float)\n",
    "b = np.array([[11, 12, 13], [14, 15, 16], [17, 18, 19]], dtype=float)\n",
    "print(\"\\na + b =\")\n",
    "print(a + b)\n",
    "print(\"\\n2 * a =\")\n",
    "print(2 * a)\n",
    "print(\"\\na * b =\")\n",
    "print(a * b)\n",
    "print(\"\\na @ b =\")\n",
    "print(a @ b)"
   ]
  },
  {
   "cell_type": "markdown",
   "id": "337a824b",
   "metadata": {},
   "source": [
    "Let us now create an array filled with random values in the range \\[0.0 .. 1.0) and access various parts of it."
   ]
  },
  {
   "cell_type": "code",
   "execution_count": 16,
   "id": "f58d5d0a",
   "metadata": {},
   "outputs": [
    {
     "name": "stdout",
     "output_type": "stream",
     "text": [
      "Dimensions  : 2\n",
      "Shape       : (5, 5)\n",
      "Element Type: float64\n",
      "Size        : 25\n",
      "Item Size   : 8\n"
     ]
    },
    {
     "data": {
      "text/plain": [
       "array([[0.51182162, 0.9504637 , 0.14415961, 0.94864945, 0.31183145],\n",
       "       [0.42332645, 0.82770259, 0.40919914, 0.54959369, 0.02755911],\n",
       "       [0.75351311, 0.53814331, 0.32973172, 0.7884287 , 0.30319483],\n",
       "       [0.45349789, 0.1340417 , 0.40311299, 0.20345524, 0.26231334],\n",
       "       [0.75036467, 0.28040876, 0.48519097, 0.9807372 , 0.96165719]])"
      ]
     },
     "execution_count": 16,
     "metadata": {},
     "output_type": "execute_result"
    }
   ],
   "source": [
    "generator = np.random.default_rng(1)\n",
    "values = generator.random((5, 5))\n",
    "print_array_info(values)\n",
    "values"
   ]
  },
  {
   "cell_type": "code",
   "execution_count": 17,
   "id": "b7ff895e",
   "metadata": {},
   "outputs": [
    {
     "data": {
      "text/plain": [
       "array([0.51182162, 0.9504637 , 0.14415961, 0.94864945, 0.31183145])"
      ]
     },
     "execution_count": 17,
     "metadata": {},
     "output_type": "execute_result"
    }
   ],
   "source": [
    "values[0]"
   ]
  },
  {
   "cell_type": "code",
   "execution_count": 18,
   "id": "42c97bb6",
   "metadata": {},
   "outputs": [
    {
     "data": {
      "text/plain": [
       "array([[0.51182162, 0.9504637 , 0.14415961, 0.94864945, 0.31183145],\n",
       "       [0.42332645, 0.82770259, 0.40919914, 0.54959369, 0.02755911],\n",
       "       [0.75351311, 0.53814331, 0.32973172, 0.7884287 , 0.30319483]])"
      ]
     },
     "execution_count": 18,
     "metadata": {},
     "output_type": "execute_result"
    }
   ],
   "source": [
    "values[0:3]"
   ]
  },
  {
   "cell_type": "code",
   "execution_count": 19,
   "id": "97a6540f",
   "metadata": {},
   "outputs": [
    {
     "data": {
      "text/plain": [
       "array([[0.51182162, 0.9504637 , 0.14415961, 0.94864945, 0.31183145],\n",
       "       [0.75351311, 0.53814331, 0.32973172, 0.7884287 , 0.30319483]])"
      ]
     },
     "execution_count": 19,
     "metadata": {},
     "output_type": "execute_result"
    }
   ],
   "source": [
    "values[0:4:2]"
   ]
  },
  {
   "cell_type": "code",
   "execution_count": 20,
   "id": "a3b80a85",
   "metadata": {},
   "outputs": [
    {
     "data": {
      "text/plain": [
       "array([0.75036467, 0.28040876, 0.48519097, 0.9807372 , 0.96165719])"
      ]
     },
     "execution_count": 20,
     "metadata": {},
     "output_type": "execute_result"
    }
   ],
   "source": [
    "values[-1]"
   ]
  },
  {
   "cell_type": "code",
   "execution_count": 21,
   "id": "c8a20300",
   "metadata": {},
   "outputs": [
    {
     "data": {
      "text/plain": [
       "array([[0.75036467, 0.28040876, 0.48519097, 0.9807372 , 0.96165719],\n",
       "       [0.45349789, 0.1340417 , 0.40311299, 0.20345524, 0.26231334]])"
      ]
     },
     "execution_count": 21,
     "metadata": {},
     "output_type": "execute_result"
    }
   ],
   "source": [
    "values[-1:-3:-1]"
   ]
  },
  {
   "cell_type": "code",
   "execution_count": 22,
   "id": "1e518957",
   "metadata": {},
   "outputs": [
    {
     "data": {
      "text/plain": [
       "array([[0.51182162, 0.9504637 ],\n",
       "       [0.42332645, 0.82770259],\n",
       "       [0.75351311, 0.53814331],\n",
       "       [0.45349789, 0.1340417 ],\n",
       "       [0.75036467, 0.28040876]])"
      ]
     },
     "execution_count": 22,
     "metadata": {},
     "output_type": "execute_result"
    }
   ],
   "source": [
    "values[:, 0:2]"
   ]
  },
  {
   "cell_type": "code",
   "execution_count": 23,
   "id": "b3ba8813",
   "metadata": {},
   "outputs": [
    {
     "data": {
      "text/plain": [
       "array([0.31183145, 0.02755911, 0.30319483, 0.26231334, 0.96165719])"
      ]
     },
     "execution_count": 23,
     "metadata": {},
     "output_type": "execute_result"
    }
   ],
   "source": [
    "values[:, -1]"
   ]
  },
  {
   "cell_type": "code",
   "execution_count": 24,
   "id": "f9d406d0",
   "metadata": {},
   "outputs": [
    {
     "data": {
      "text/plain": [
       "array([[0.31183145, 0.94864945],\n",
       "       [0.02755911, 0.54959369],\n",
       "       [0.30319483, 0.7884287 ],\n",
       "       [0.26231334, 0.20345524],\n",
       "       [0.96165719, 0.9807372 ]])"
      ]
     },
     "execution_count": 24,
     "metadata": {},
     "output_type": "execute_result"
    }
   ],
   "source": [
    "values[:, -1:-3:-1]"
   ]
  },
  {
   "cell_type": "code",
   "execution_count": 25,
   "id": "5a70a70d",
   "metadata": {},
   "outputs": [
    {
     "data": {
      "text/plain": [
       "array([[0.40919914, 0.54959369, 0.02755911],\n",
       "       [0.32973172, 0.7884287 , 0.30319483]])"
      ]
     },
     "execution_count": 25,
     "metadata": {},
     "output_type": "execute_result"
    }
   ],
   "source": [
    "values[1:3, 2:]"
   ]
  },
  {
   "cell_type": "code",
   "execution_count": null,
   "id": "6e3f0406",
   "metadata": {},
   "outputs": [],
   "source": []
  }
 ],
 "metadata": {
  "kernelspec": {
   "display_name": "Python 3",
   "language": "python",
   "name": "python3"
  },
  "language_info": {
   "codemirror_mode": {
    "name": "ipython",
    "version": 3
   },
   "file_extension": ".py",
   "mimetype": "text/x-python",
   "name": "python",
   "nbconvert_exporter": "python",
   "pygments_lexer": "ipython3",
   "version": "3.8.8"
  }
 },
 "nbformat": 4,
 "nbformat_minor": 5
}

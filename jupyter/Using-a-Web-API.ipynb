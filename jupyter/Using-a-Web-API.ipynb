{
 "cells": [
  {
   "cell_type": "markdown",
   "id": "e1fb9caf",
   "metadata": {},
   "source": [
    "# Using a Web API\n",
    "\n",
    "This notebook demonstrates using Python to access the OpenStreetMap RESTful API to get information about geographical locations. The code here is taken (with adaptions) from *Learning Python by Building Data Science Applications* by Philipp Kats and David Katz, chapter on geocoding with web APIs.\n",
    "\n",
    "This code requires the `requests` package be installed. The `requests` package is part of the stock Anaconda installation, so if you are using Anaconda you don't need to do anything to install `requests`.\n",
    "\n",
    "Let's make a basic request of the OpenStreetMap database using the Nominatim API:"
   ]
  },
  {
   "cell_type": "code",
   "execution_count": 31,
   "id": "662f16e4",
   "metadata": {},
   "outputs": [
    {
     "name": "stdout",
     "output_type": "stream",
     "text": [
      "200\n"
     ]
    }
   ],
   "source": [
    "import requests;\n",
    "\n",
    "base_url = 'https://nominatim.openstreetmap.org/search?'\n",
    "params = {\n",
    "    \"format\" : \"json\",\n",
    "    \"q\" : \"201 Lawrence Pl., Williston, VT 05495\"\n",
    "}\n",
    "result = requests.get(base_url, params)\n",
    "print(result.status_code)"
   ]
  },
  {
   "cell_type": "markdown",
   "id": "dcce3acc",
   "metadata": {},
   "source": [
    "A status code of `200` means \"success!\" These are the standard HTTP status codes, so, for example, `404` means \"resource not found.\" We asked for a result in JSON format, but we can ask the `result` object to convert that into a convenient Python data structure for us:"
   ]
  },
  {
   "cell_type": "code",
   "execution_count": 32,
   "id": "db0251ca",
   "metadata": {},
   "outputs": [
    {
     "name": "stdout",
     "output_type": "stream",
     "text": [
      "[{'place_id': 292867327, 'licence': 'Data © OpenStreetMap contributors, ODbL 1.0. https://osm.org/copyright', 'osm_type': 'way', 'osm_id': 219862033, 'boundingbox': ['44.451261587211', '44.451361587211', '-73.1130796685', '-73.1129796685'], 'lat': '44.45131158721091', 'lon': '-73.1130296684996', 'display_name': '201, Lawrence Place, Taft Corners, Williston, Chittenden County, Vermont, 05495, United States', 'class': 'place', 'type': 'house', 'importance': 0.5309999999999999}]\n"
     ]
    }
   ],
   "source": [
    "pythonic_result = result.json()\n",
    "print(pythonic_result)"
   ]
  },
  {
   "cell_type": "markdown",
   "id": "dbc542c6",
   "metadata": {},
   "source": [
    "What is returned by the `json` method is a list of dictionaries. It is a list because there might be multiple locations that match our query (in general). Each element of the list provides information about one location. If the query fails entirely, the returned list will be empty.\n",
    "\n",
    "The dictionary that describes one of the search results provides a number of named attributes about the result. What interests us here is the longitude (the 'lon' attribute), and the latitude (the 'lat' attribute). Let's print a nice summary:"
   ]
  },
  {
   "cell_type": "code",
   "execution_count": 33,
   "id": "12ff4e60",
   "metadata": {},
   "outputs": [
    {
     "name": "stdout",
     "output_type": "stream",
     "text": [
      "For location: 201 Lawrence Pl., Williston, VT 05495\n",
      "  Latitude  = 44.45131158721091\n",
      "  Longitude = -73.1130296684996\n"
     ]
    }
   ],
   "source": [
    "if len(pythonic_result) >= 1:\n",
    "    location_information = pythonic_result[0]   # Ignore other results for now.\n",
    "    print(\"For location:\", params[\"q\"])\n",
    "    print(\"  Latitude  =\", location_information[\"lat\"])\n",
    "    print(\"  Longitude =\", location_information[\"lon\"])"
   ]
  },
  {
   "cell_type": "markdown",
   "id": "89b490d0",
   "metadata": {},
   "source": [
    "Let's define a function that prints the place information in a nice way."
   ]
  },
  {
   "cell_type": "code",
   "execution_count": 34,
   "id": "b3d858c6",
   "metadata": {},
   "outputs": [
    {
     "name": "stdout",
     "output_type": "stream",
     "text": [
      "Location: 201, Lawrence Place, Taft Corners, Williston, Chittenden County, Vermont, 05495, United States\n",
      "  Latitude  = 44.45131158721091\n",
      "  Longitude = -73.1130296684996\n"
     ]
    }
   ],
   "source": [
    "def print_location(location_information):\n",
    "    print(\"Location:\", location_information[\"display_name\"])\n",
    "    print(\"  Latitude  =\", location_information[\"lat\"])\n",
    "    print(\"  Longitude =\", location_information[\"lon\"])\n",
    "    \n",
    "print_location(pythonic_result[0])"
   ]
  },
  {
   "cell_type": "markdown",
   "id": "1ffc16f2",
   "metadata": {},
   "source": [
    "So far we have been working with the address of VTC's Williston campus. Now let's look up the GPS coordinates of VTC's main campus."
   ]
  },
  {
   "cell_type": "code",
   "execution_count": 35,
   "id": "5df37306",
   "metadata": {},
   "outputs": [
    {
     "name": "stdout",
     "output_type": "stream",
     "text": [
      "Location: Admin Drive, Randolph Center, Randolph, Orange County, Vermont, 05061, United States\n",
      "  Latitude  = 43.9376948\n",
      "  Longitude = -72.6012637\n"
     ]
    }
   ],
   "source": [
    "params = { \"format\" : \"json\", \"q\" : \"124 Admin Dr., Randolph Center, VT 05061\"}\n",
    "result = requests.get(base_url, params)\n",
    "if result.status_code != 200:\n",
    "    print(\"Error! Request failed with status code:\", result.status_code)\n",
    "else:\n",
    "    pythonic_result = result.json()\n",
    "    if len(pythonic_result) == 0:\n",
    "        print(\"Error! Request returned no matching locations\")\n",
    "    else:\n",
    "        print_location(pythonic_result[0])\n",
    "\n",
    "    "
   ]
  },
  {
   "cell_type": "markdown",
   "id": "2b21edcd",
   "metadata": {},
   "source": [
    "To compute the distance between two points on the Earth's surface given the GPS coordinates of those points, it is necessary to use spherical trigonometry. See the Wikipedia page on [great circle distance](https://en.wikipedia.org/wiki/Great-circle_distance) for more details. To illustrate the computation, lets start with the values returned above:"
   ]
  },
  {
   "cell_type": "code",
   "execution_count": 27,
   "id": "4c5a5d07",
   "metadata": {},
   "outputs": [],
   "source": [
    "lat1 = 44.45131158721091\n",
    "lon1 = -73.1130296684996\n",
    "\n",
    "lat2 = 43.9376948\n",
    "lon2 = -72.6012637"
   ]
  },
  {
   "cell_type": "markdown",
   "id": "0c1f758f",
   "metadata": {},
   "source": [
    "We need the absolute values of the differences. We also need to convert to radians:"
   ]
  },
  {
   "cell_type": "code",
   "execution_count": 28,
   "id": "2b87a287",
   "metadata": {},
   "outputs": [],
   "source": [
    "import math\n",
    "\n",
    "delta_lat = 2.0 * math.pi * (abs(lat1 - lat2)/360.0)\n",
    "delta_lon = 2.0 * math.pi * (abs(lon1 - lon2)/360.0)"
   ]
  },
  {
   "cell_type": "markdown",
   "id": "3c1f2061",
   "metadata": {},
   "source": [
    "Now we use the haversine based formula from the web page:"
   ]
  },
  {
   "cell_type": "code",
   "execution_count": 36,
   "id": "f5a83900",
   "metadata": {},
   "outputs": [
    {
     "name": "stdout",
     "output_type": "stream",
     "text": [
      "0.012306678677552505\n"
     ]
    }
   ],
   "source": [
    "t1 = math.sin(delta_lat/2.0)\n",
    "t2 = t1*t1\n",
    "t3 = math.sin(delta_lon/2.0)\n",
    "t4 = t3*t3\n",
    "t5 = t2 + math.cos(lat1) * math.cos(lat2) * t4\n",
    "delta_sigma = 2.0 * math.asin(math.sqrt(t5))\n",
    "print(delta_sigma)"
   ]
  },
  {
   "cell_type": "markdown",
   "id": "1b9ceb4d",
   "metadata": {},
   "source": [
    "Knowing this angle (in radians) we can compute the distance on the surface of the Earth using the radius of the Earth:"
   ]
  },
  {
   "cell_type": "code",
   "execution_count": 37,
   "id": "93ae3a60",
   "metadata": {},
   "outputs": [
    {
     "name": "stdout",
     "output_type": "stream",
     "text": [
      "distance = 48.773712977325665 miles\n"
     ]
    }
   ],
   "source": [
    "radis_of_earth = (6378.137) * 0.62137119  # Convert kilometers to miles.\n",
    "distance = radis_of_earth * delta_sigma\n",
    "print(\"distance =\", distance, \"miles\")"
   ]
  },
  {
   "cell_type": "code",
   "execution_count": null,
   "id": "ff92bbee",
   "metadata": {},
   "outputs": [],
   "source": []
  }
 ],
 "metadata": {
  "kernelspec": {
   "display_name": "Python 3",
   "language": "python",
   "name": "python3"
  },
  "language_info": {
   "codemirror_mode": {
    "name": "ipython",
    "version": 3
   },
   "file_extension": ".py",
   "mimetype": "text/x-python",
   "name": "python",
   "nbconvert_exporter": "python",
   "pygments_lexer": "ipython3",
   "version": "3.8.8"
  }
 },
 "nbformat": 4,
 "nbformat_minor": 5
}

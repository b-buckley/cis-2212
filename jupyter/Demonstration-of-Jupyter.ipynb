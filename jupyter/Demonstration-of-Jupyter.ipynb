{
 "cells": [
  {
   "cell_type": "markdown",
   "source": [
    "# Demonstration Notebook\n",
    "\n",
    "This notebook illustrates some of Jupyter's features. This section, for example, is text formatted in Markdown (a lightweight markup language). You can use 'cells' like this to explain what you are doing."
   ],
   "metadata": {}
  },
  {
   "cell_type": "markdown",
   "source": [
    "## List Comprehensions\n",
    "\n",
    "For example, below is a demonstration of a list comprehension in Python."
   ],
   "metadata": {}
  },
  {
   "cell_type": "code",
   "execution_count": 6,
   "source": [
    "values = [x/10 for x in range(10, 100, 5)]\r\n",
    "print(values)"
   ],
   "outputs": [
    {
     "output_type": "stream",
     "name": "stdout",
     "text": [
      "[1.0, 1.5, 2.0, 2.5, 3.0, 3.5, 4.0, 4.5, 5.0, 5.5, 6.0, 6.5, 7.0, 7.5, 8.0, 8.5, 9.0, 9.5]\n"
     ]
    }
   ],
   "metadata": {}
  },
  {
   "cell_type": "markdown",
   "source": [
    "The above example also shows the use of the `range()` function to generate a range of integers. In `range(10, 100, 5)`, the first number is the start value, the second number is the end value (not included in the range), and the last value, which is optional, is the step size. In this example, I actually want to generate a collection of floating point values, so I use `x/10` to produce the list items from the integers produced by `range()`."
   ],
   "metadata": {}
  },
  {
   "cell_type": "markdown",
   "source": [
    "Let's produce a range of values from 0 to `2*pi`..."
   ],
   "metadata": {}
  },
  {
   "cell_type": "code",
   "execution_count": 2,
   "source": [
    "values = [2.0 * 3.14159 * (x/20) for x in range(20)]\r\n",
    "print(values)"
   ],
   "outputs": [
    {
     "output_type": "stream",
     "name": "stdout",
     "text": [
      "[0.0, 0.314159, 0.628318, 0.9424769999999999, 1.256636, 1.570795, 1.8849539999999998, 2.1991129999999997, 2.513272, 2.827431, 3.14159, 3.455749, 3.7699079999999996, 4.084067, 4.398225999999999, 4.712384999999999, 5.026544, 5.3407029999999995, 5.654862, 5.969021]\n"
     ]
    }
   ],
   "metadata": {}
  },
  {
   "cell_type": "markdown",
   "source": [
    "In this example the one-argument form of range is used which has an implict start value of 0. The expression `x/20` thus ranges from 0 to 1.0 (actually not quite 1.0). The factor `2.0 * 3.14159` is, of course, `2*pi`. Let's get a more precise value of `pi` from the `math` module."
   ],
   "metadata": {}
  },
  {
   "cell_type": "code",
   "execution_count": 3,
   "source": [
    "import math\r\n",
    "values = [2.0 * math.pi * (x/20) for x in range(20)]"
   ],
   "outputs": [],
   "metadata": {}
  },
  {
   "cell_type": "markdown",
   "source": [
    "## Graphing\r\n",
    "\r\n",
    "Now we can use this list as a collection of x-coordinates and compute the values of y via the `sin` function."
   ],
   "metadata": {}
  },
  {
   "cell_type": "code",
   "execution_count": 4,
   "source": [
    "results = map( lambda v: math.sin(v), values)"
   ],
   "outputs": [],
   "metadata": {}
  },
  {
   "cell_type": "markdown",
   "source": [
    "Now let's plot a graph using Matplotlib!"
   ],
   "metadata": {}
  },
  {
   "cell_type": "code",
   "execution_count": 5,
   "source": [
    "import matplotlib.pyplot as plt\r\n",
    "plt.plot(values, list(results), \"bo\")\r\n",
    "plt.show"
   ],
   "outputs": [
    {
     "output_type": "execute_result",
     "data": {
      "text/plain": [
       "<function matplotlib.pyplot.show(close=None, block=None)>"
      ]
     },
     "metadata": {},
     "execution_count": 5
    },
    {
     "output_type": "display_data",
     "data": {
      "image/png": "[encoded data removed]",
      "text/plain": [
       "<Figure size 432x288 with 1 Axes>"
      ]
     },
     "metadata": {
      "needs_background": "light"
     }
    }
   ],
   "metadata": {}
  },
  {
   "cell_type": "markdown",
   "source": [
    "## Conclusion\n",
    "\n",
    "Using this environment we will be able to interactive manipulate data, show results via nice visulations, and then save our work in a \"notebook\" file for later use and study."
   ],
   "metadata": {}
  },
  {
   "cell_type": "code",
   "execution_count": null,
   "source": [],
   "outputs": [],
   "metadata": {}
  }
 ],
 "metadata": {
  "kernelspec": {
   "name": "python3",
   "display_name": "Python 3.8.8 64-bit ('base': conda)"
  },
  "language_info": {
   "codemirror_mode": {
    "name": "ipython",
    "version": 3
   },
   "file_extension": ".py",
   "mimetype": "text/x-python",
   "name": "python",
   "nbconvert_exporter": "python",
   "pygments_lexer": "ipython3",
   "version": "3.8.8"
  },
  "interpreter": {
   "hash": "57eac358636e2627c85bf8ccdce002d954112ebac319c77afd86d97c57933ce1"
  }
 },
 "nbformat": 4,
 "nbformat_minor": 5
}